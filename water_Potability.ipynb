{
  "nbformat": 4,
  "nbformat_minor": 0,
  "metadata": {
    "colab": {
      "name": "water_Potability.ipynb",
      "provenance": [],
      "collapsed_sections": []
    },
    "kernelspec": {
      "name": "python3",
      "display_name": "Python 3"
    },
    "language_info": {
      "name": "python"
    }
  },
  "cells": [
    {
      "cell_type": "code",
      "metadata": {
        "id": "_vpc8eQSmsxX"
      },
      "source": [
        "import pandas as pd\n",
        "import numpy as np\n",
        "import seaborn as sns\n",
        "import matplotlib.pyplot as plt"
      ],
      "execution_count": 1,
      "outputs": []
    },
    {
      "cell_type": "markdown",
      "metadata": {
        "id": "-JO_uzqxz7ka"
      },
      "source": [
        "### Variable Descriptions\n",
        "\n",
        "#### pH value: \n",
        "PH is an important parameter in evaluating the acid–base balance of water. It is also the indicator of acidic or alkaline condition of water status. WHO has recommended a maximum permissible limit of pH from 6.5 to 8.5. The current investigation ranges were 6.52–6.83 which are in the range of WHO standards.\n",
        "#### Hardness: \n",
        "Hardness is mainly caused by calcium and magnesium salts. These salts are dissolved from geologic deposits through which water travels. The length of time water is in contact with hardness producing material helps determine how much hardness there is in raw water. Hardness was originally defined as the capacity of water to precipitate soap caused by Calcium and Magnesium.\n",
        "#### Solids (Total dissolved solids - TDS): \n",
        "Water has the ability to dissolve a wide range of inorganic and some organic minerals or salts such as potassium, calcium, sodium, bicarbonates, chlorides, magnesium, sulfates etc. These minerals produced an unwanted taste and diluted color in the appearance of water. This is the important parameter for the use of water. The water with high TDS value indicates that water is highly mineralized. The desired limit for TDS is 500 mg/l and maximum limit is 1000 mg/l which is prescribed for drinking purposes.\n",
        "#### Chloramines: \n",
        "Chlorine and chloramine are the major disinfectants used in public water systems. Chloramines are most commonly formed when ammonia is added to chlorine to treat drinking water. Chlorine levels up to 4 milligrams per liter (mg/L or 4 parts per million (ppm)) are considered safe in drinking water.\n",
        "#### Sulfate: \n",
        "Sulfates are naturally occurring substances that are found in minerals, soil, and rocks. They are present in ambient air, groundwater, plants, and food. The principal commercial use of sulfate is in the chemical industry. Sulfate concentration in seawater is about 2,700 milligrams per liter (mg/L). It ranges from 3 to 30 mg/L in most freshwater supplies, although much higher concentrations (1000 mg/L) are found in some geographic locations.\n",
        "#### Conductivity: \n",
        "Pure water is not a good conductor of electric current rather it's a good insulator. Increase in ions concentration enhances the electrical conductivity of water. Generally, the amount of dissolved solids in water determines the electrical conductivity. Electrical conductivity (EC) actually measures the ionic process of a solution that enables it to transmit current. According to WHO standards, EC value should not exceed 400 μS/cm.\n",
        "#### Organic_carbon: \n",
        "Total Organic Carbon (TOC) in source waters comes from decaying natural organic matter (NOM) as well as synthetic sources. TOC is a measure of the total amount of carbon in organic compounds in pure water. According to the US EPA < 2 mg/L as TOC in treated / drinking water, and < 4 mg/Lit in source water which is used for treatment.\n",
        "#### Trihalomethanes: \n",
        "THMs are chemicals which may be found in water treated with chlorine. The concentration of THMs in drinking water varies according to the level of organic material in the water, the amount of chlorine required to treat the water, and the temperature of the water that is being treated. THM levels up to 80 ppm is considered safe in drinking water.\n",
        "#### Turbidity: \n",
        "The turbidity of water depends on the quantity of solid matter present in the suspended state. It is a measure of light emitting properties of water and the test is used to indicate the quality of waste discharge with respect to colloidal matter. The mean turbidity value obtained for Wondo Genet Campus (0.98 NTU) is lower than the WHO recommended value of 5.00 NTU.\n",
        "#### Potability: \n",
        "Indicates if water is safe for human consumption where 1 means Potable and 0 means Not potable."
      ]
    },
    {
      "cell_type": "code",
      "metadata": {
        "id": "HNuA8Sq7m3t_",
        "colab": {
          "base_uri": "https://localhost:8080/",
          "height": 363
        },
        "outputId": "32c6a3ff-7580-46f2-82bb-929e57896616"
      },
      "source": [
        "train_data = pd.read_csv(\"/content/Train.csv\")\n",
        "train_data.head(10) "
      ],
      "execution_count": 2,
      "outputs": [
        {
          "output_type": "execute_result",
          "data": {
            "text/html": [
              "<div>\n",
              "<style scoped>\n",
              "    .dataframe tbody tr th:only-of-type {\n",
              "        vertical-align: middle;\n",
              "    }\n",
              "\n",
              "    .dataframe tbody tr th {\n",
              "        vertical-align: top;\n",
              "    }\n",
              "\n",
              "    .dataframe thead th {\n",
              "        text-align: right;\n",
              "    }\n",
              "</style>\n",
              "<table border=\"1\" class=\"dataframe\">\n",
              "  <thead>\n",
              "    <tr style=\"text-align: right;\">\n",
              "      <th></th>\n",
              "      <th>region_area_</th>\n",
              "      <th>ph</th>\n",
              "      <th>Hardness</th>\n",
              "      <th>Solids</th>\n",
              "      <th>Chloramines</th>\n",
              "      <th>Sulfate</th>\n",
              "      <th>Conductivity</th>\n",
              "      <th>Organic_carbon</th>\n",
              "      <th>Trihalomethanes</th>\n",
              "      <th>Turbidity</th>\n",
              "      <th>Potability</th>\n",
              "    </tr>\n",
              "  </thead>\n",
              "  <tbody>\n",
              "    <tr>\n",
              "      <th>0</th>\n",
              "      <td>region_area_1</td>\n",
              "      <td>3.716080</td>\n",
              "      <td>180.196811</td>\n",
              "      <td>18630.362669</td>\n",
              "      <td>6.330435</td>\n",
              "      <td>NaN</td>\n",
              "      <td>602.990359</td>\n",
              "      <td>15.285013</td>\n",
              "      <td>56.444076</td>\n",
              "      <td>4.500656</td>\n",
              "      <td>0</td>\n",
              "    </tr>\n",
              "    <tr>\n",
              "      <th>1</th>\n",
              "      <td>region_area_100</td>\n",
              "      <td>4.270716</td>\n",
              "      <td>217.611599</td>\n",
              "      <td>24405.555346</td>\n",
              "      <td>7.086700</td>\n",
              "      <td>297.951852</td>\n",
              "      <td>359.623910</td>\n",
              "      <td>13.583526</td>\n",
              "      <td>54.589840</td>\n",
              "      <td>3.763906</td>\n",
              "      <td>0</td>\n",
              "    </tr>\n",
              "    <tr>\n",
              "      <th>2</th>\n",
              "      <td>region_area_1000</td>\n",
              "      <td>6.648849</td>\n",
              "      <td>232.462013</td>\n",
              "      <td>30733.808648</td>\n",
              "      <td>5.656462</td>\n",
              "      <td>344.670335</td>\n",
              "      <td>267.809179</td>\n",
              "      <td>17.863444</td>\n",
              "      <td>35.411181</td>\n",
              "      <td>4.827527</td>\n",
              "      <td>0</td>\n",
              "    </tr>\n",
              "    <tr>\n",
              "      <th>3</th>\n",
              "      <td>region_area_1001</td>\n",
              "      <td>NaN</td>\n",
              "      <td>261.753637</td>\n",
              "      <td>21174.713291</td>\n",
              "      <td>7.314074</td>\n",
              "      <td>NaN</td>\n",
              "      <td>582.848407</td>\n",
              "      <td>15.215849</td>\n",
              "      <td>90.367455</td>\n",
              "      <td>4.217553</td>\n",
              "      <td>0</td>\n",
              "    </tr>\n",
              "    <tr>\n",
              "      <th>4</th>\n",
              "      <td>region_area_1002</td>\n",
              "      <td>9.323584</td>\n",
              "      <td>263.484560</td>\n",
              "      <td>15751.480111</td>\n",
              "      <td>5.196259</td>\n",
              "      <td>297.593625</td>\n",
              "      <td>409.878704</td>\n",
              "      <td>10.727265</td>\n",
              "      <td>74.669285</td>\n",
              "      <td>3.006650</td>\n",
              "      <td>0</td>\n",
              "    </tr>\n",
              "    <tr>\n",
              "      <th>5</th>\n",
              "      <td>region_area_1003</td>\n",
              "      <td>4.581969</td>\n",
              "      <td>236.871806</td>\n",
              "      <td>33897.373012</td>\n",
              "      <td>6.053592</td>\n",
              "      <td>317.297905</td>\n",
              "      <td>416.487378</td>\n",
              "      <td>19.804848</td>\n",
              "      <td>62.438303</td>\n",
              "      <td>4.500208</td>\n",
              "      <td>0</td>\n",
              "    </tr>\n",
              "    <tr>\n",
              "      <th>6</th>\n",
              "      <td>region_area_1004</td>\n",
              "      <td>7.884842</td>\n",
              "      <td>280.016551</td>\n",
              "      <td>21734.132854</td>\n",
              "      <td>7.598271</td>\n",
              "      <td>315.935097</td>\n",
              "      <td>378.875894</td>\n",
              "      <td>11.740399</td>\n",
              "      <td>49.919322</td>\n",
              "      <td>4.631641</td>\n",
              "      <td>0</td>\n",
              "    </tr>\n",
              "    <tr>\n",
              "      <th>7</th>\n",
              "      <td>region_area_1005</td>\n",
              "      <td>6.168839</td>\n",
              "      <td>289.074938</td>\n",
              "      <td>24827.821451</td>\n",
              "      <td>7.415200</td>\n",
              "      <td>270.235286</td>\n",
              "      <td>492.778327</td>\n",
              "      <td>22.196990</td>\n",
              "      <td>79.284281</td>\n",
              "      <td>4.435760</td>\n",
              "      <td>0</td>\n",
              "    </tr>\n",
              "    <tr>\n",
              "      <th>8</th>\n",
              "      <td>region_area_1007</td>\n",
              "      <td>NaN</td>\n",
              "      <td>285.778488</td>\n",
              "      <td>3901.218702</td>\n",
              "      <td>6.633919</td>\n",
              "      <td>287.510215</td>\n",
              "      <td>563.599032</td>\n",
              "      <td>19.523013</td>\n",
              "      <td>84.962740</td>\n",
              "      <td>4.071344</td>\n",
              "      <td>0</td>\n",
              "    </tr>\n",
              "    <tr>\n",
              "      <th>9</th>\n",
              "      <td>region_area_1008</td>\n",
              "      <td>8.693104</td>\n",
              "      <td>235.546700</td>\n",
              "      <td>13284.082864</td>\n",
              "      <td>6.217004</td>\n",
              "      <td>349.299905</td>\n",
              "      <td>571.070910</td>\n",
              "      <td>14.083348</td>\n",
              "      <td>71.848845</td>\n",
              "      <td>2.898223</td>\n",
              "      <td>0</td>\n",
              "    </tr>\n",
              "  </tbody>\n",
              "</table>\n",
              "</div>"
            ],
            "text/plain": [
              "       region_area_        ph  ...  Turbidity  Potability\n",
              "0     region_area_1  3.716080  ...   4.500656           0\n",
              "1   region_area_100  4.270716  ...   3.763906           0\n",
              "2  region_area_1000  6.648849  ...   4.827527           0\n",
              "3  region_area_1001       NaN  ...   4.217553           0\n",
              "4  region_area_1002  9.323584  ...   3.006650           0\n",
              "5  region_area_1003  4.581969  ...   4.500208           0\n",
              "6  region_area_1004  7.884842  ...   4.631641           0\n",
              "7  region_area_1005  6.168839  ...   4.435760           0\n",
              "8  region_area_1007       NaN  ...   4.071344           0\n",
              "9  region_area_1008  8.693104  ...   2.898223           0\n",
              "\n",
              "[10 rows x 11 columns]"
            ]
          },
          "metadata": {},
          "execution_count": 2
        }
      ]
    },
    {
      "cell_type": "code",
      "metadata": {
        "colab": {
          "base_uri": "https://localhost:8080/"
        },
        "id": "BLb5uUukonyV",
        "outputId": "520784de-5219-4ec9-aaf4-993997ea5862"
      },
      "source": [
        "train_data.shape"
      ],
      "execution_count": 3,
      "outputs": [
        {
          "output_type": "execute_result",
          "data": {
            "text/plain": [
              "(2260, 11)"
            ]
          },
          "metadata": {},
          "execution_count": 3
        }
      ]
    },
    {
      "cell_type": "code",
      "metadata": {
        "colab": {
          "base_uri": "https://localhost:8080/",
          "height": 206
        },
        "id": "DrgWualQuvS5",
        "outputId": "c050e469-fa9a-4aa8-96cf-1265b41a29cd"
      },
      "source": [
        "test_data = pd.read_csv(\"/content/Test.csv\")\n",
        "test_data.head()"
      ],
      "execution_count": 4,
      "outputs": [
        {
          "output_type": "execute_result",
          "data": {
            "text/html": [
              "<div>\n",
              "<style scoped>\n",
              "    .dataframe tbody tr th:only-of-type {\n",
              "        vertical-align: middle;\n",
              "    }\n",
              "\n",
              "    .dataframe tbody tr th {\n",
              "        vertical-align: top;\n",
              "    }\n",
              "\n",
              "    .dataframe thead th {\n",
              "        text-align: right;\n",
              "    }\n",
              "</style>\n",
              "<table border=\"1\" class=\"dataframe\">\n",
              "  <thead>\n",
              "    <tr style=\"text-align: right;\">\n",
              "      <th></th>\n",
              "      <th>region_area_</th>\n",
              "      <th>ph</th>\n",
              "      <th>Hardness</th>\n",
              "      <th>Solids</th>\n",
              "      <th>Chloramines</th>\n",
              "      <th>Sulfate</th>\n",
              "      <th>Conductivity</th>\n",
              "      <th>Organic_carbon</th>\n",
              "      <th>Trihalomethanes</th>\n",
              "      <th>Turbidity</th>\n",
              "    </tr>\n",
              "  </thead>\n",
              "  <tbody>\n",
              "    <tr>\n",
              "      <th>0</th>\n",
              "      <td>region_area_0</td>\n",
              "      <td>NaN</td>\n",
              "      <td>255.664346</td>\n",
              "      <td>20791.623791</td>\n",
              "      <td>6.995401</td>\n",
              "      <td>369.261555</td>\n",
              "      <td>574.413654</td>\n",
              "      <td>10.484783</td>\n",
              "      <td>87.105970</td>\n",
              "      <td>2.963135</td>\n",
              "    </tr>\n",
              "    <tr>\n",
              "      <th>1</th>\n",
              "      <td>region_area_10</td>\n",
              "      <td>7.360640</td>\n",
              "      <td>216.294688</td>\n",
              "      <td>32452.919220</td>\n",
              "      <td>7.245890</td>\n",
              "      <td>327.369467</td>\n",
              "      <td>435.488419</td>\n",
              "      <td>15.691810</td>\n",
              "      <td>78.855016</td>\n",
              "      <td>3.662292</td>\n",
              "    </tr>\n",
              "    <tr>\n",
              "      <th>2</th>\n",
              "      <td>region_area_1006</td>\n",
              "      <td>7.230845</td>\n",
              "      <td>228.348694</td>\n",
              "      <td>17864.994196</td>\n",
              "      <td>5.513418</td>\n",
              "      <td>344.338446</td>\n",
              "      <td>377.794992</td>\n",
              "      <td>20.017950</td>\n",
              "      <td>59.418053</td>\n",
              "      <td>5.622018</td>\n",
              "    </tr>\n",
              "    <tr>\n",
              "      <th>3</th>\n",
              "      <td>region_area_1010</td>\n",
              "      <td>4.797460</td>\n",
              "      <td>241.089018</td>\n",
              "      <td>21280.551369</td>\n",
              "      <td>5.883692</td>\n",
              "      <td>327.539307</td>\n",
              "      <td>367.541193</td>\n",
              "      <td>11.818821</td>\n",
              "      <td>63.978068</td>\n",
              "      <td>4.038503</td>\n",
              "    </tr>\n",
              "    <tr>\n",
              "      <th>4</th>\n",
              "      <td>region_area_1011</td>\n",
              "      <td>9.319176</td>\n",
              "      <td>250.107456</td>\n",
              "      <td>14294.545161</td>\n",
              "      <td>7.480130</td>\n",
              "      <td>366.796865</td>\n",
              "      <td>348.546450</td>\n",
              "      <td>15.320293</td>\n",
              "      <td>63.506468</td>\n",
              "      <td>4.129230</td>\n",
              "    </tr>\n",
              "  </tbody>\n",
              "</table>\n",
              "</div>"
            ],
            "text/plain": [
              "       region_area_        ph  ...  Trihalomethanes  Turbidity\n",
              "0     region_area_0       NaN  ...        87.105970   2.963135\n",
              "1    region_area_10  7.360640  ...        78.855016   3.662292\n",
              "2  region_area_1006  7.230845  ...        59.418053   5.622018\n",
              "3  region_area_1010  4.797460  ...        63.978068   4.038503\n",
              "4  region_area_1011  9.319176  ...        63.506468   4.129230\n",
              "\n",
              "[5 rows x 10 columns]"
            ]
          },
          "metadata": {},
          "execution_count": 4
        }
      ]
    },
    {
      "cell_type": "code",
      "metadata": {
        "colab": {
          "base_uri": "https://localhost:8080/"
        },
        "id": "oz8BXjMgvKec",
        "outputId": "184af549-3fa7-4088-c173-098985df3202"
      },
      "source": [
        "test_data.shape"
      ],
      "execution_count": 5,
      "outputs": [
        {
          "output_type": "execute_result",
          "data": {
            "text/plain": [
              "(1016, 10)"
            ]
          },
          "metadata": {},
          "execution_count": 5
        }
      ]
    },
    {
      "cell_type": "code",
      "metadata": {
        "colab": {
          "base_uri": "https://localhost:8080/",
          "height": 112
        },
        "id": "6gpGuxQ2_6hT",
        "outputId": "dccc3f1b-d4c0-4f33-be56-60adcabc7c55"
      },
      "source": [
        "#Submission file format\n",
        "\n",
        "ss = pd.read_csv(\"/content/SampleSubmission.csv\")\n",
        "ss.head(2)"
      ],
      "execution_count": 6,
      "outputs": [
        {
          "output_type": "execute_result",
          "data": {
            "text/html": [
              "<div>\n",
              "<style scoped>\n",
              "    .dataframe tbody tr th:only-of-type {\n",
              "        vertical-align: middle;\n",
              "    }\n",
              "\n",
              "    .dataframe tbody tr th {\n",
              "        vertical-align: top;\n",
              "    }\n",
              "\n",
              "    .dataframe thead th {\n",
              "        text-align: right;\n",
              "    }\n",
              "</style>\n",
              "<table border=\"1\" class=\"dataframe\">\n",
              "  <thead>\n",
              "    <tr style=\"text-align: right;\">\n",
              "      <th></th>\n",
              "      <th>region_area_</th>\n",
              "      <th>Potability</th>\n",
              "    </tr>\n",
              "  </thead>\n",
              "  <tbody>\n",
              "    <tr>\n",
              "      <th>0</th>\n",
              "      <td>region_area_0</td>\n",
              "      <td>1</td>\n",
              "    </tr>\n",
              "    <tr>\n",
              "      <th>1</th>\n",
              "      <td>region_area_10</td>\n",
              "      <td>1</td>\n",
              "    </tr>\n",
              "  </tbody>\n",
              "</table>\n",
              "</div>"
            ],
            "text/plain": [
              "     region_area_  Potability\n",
              "0   region_area_0           1\n",
              "1  region_area_10           1"
            ]
          },
          "metadata": {},
          "execution_count": 6
        }
      ]
    },
    {
      "cell_type": "markdown",
      "metadata": {
        "id": "QL6w616tbtQC"
      },
      "source": [
        "## Exploratory Analysis"
      ]
    },
    {
      "cell_type": "code",
      "metadata": {
        "colab": {
          "base_uri": "https://localhost:8080/"
        },
        "id": "pAu6xnzBvRFF",
        "outputId": "5b2d752a-1723-4606-f3da-83c22888448f"
      },
      "source": [
        "test_data.isnull().sum()"
      ],
      "execution_count": 7,
      "outputs": [
        {
          "output_type": "execute_result",
          "data": {
            "text/plain": [
              "region_area_         0\n",
              "ph                 155\n",
              "Hardness             0\n",
              "Solids               0\n",
              "Chloramines          0\n",
              "Sulfate            234\n",
              "Conductivity         0\n",
              "Organic_carbon       0\n",
              "Trihalomethanes     51\n",
              "Turbidity            0\n",
              "dtype: int64"
            ]
          },
          "metadata": {},
          "execution_count": 7
        }
      ]
    },
    {
      "cell_type": "code",
      "metadata": {
        "colab": {
          "base_uri": "https://localhost:8080/"
        },
        "id": "5dDaX7-b0sv7",
        "outputId": "4c49f0db-41aa-48b4-cd0e-a5942557115d"
      },
      "source": [
        "test_data.info()"
      ],
      "execution_count": 8,
      "outputs": [
        {
          "output_type": "stream",
          "name": "stdout",
          "text": [
            "<class 'pandas.core.frame.DataFrame'>\n",
            "RangeIndex: 1016 entries, 0 to 1015\n",
            "Data columns (total 10 columns):\n",
            " #   Column           Non-Null Count  Dtype  \n",
            "---  ------           --------------  -----  \n",
            " 0   region_area_     1016 non-null   object \n",
            " 1   ph               861 non-null    float64\n",
            " 2   Hardness         1016 non-null   float64\n",
            " 3   Solids           1016 non-null   float64\n",
            " 4   Chloramines      1016 non-null   float64\n",
            " 5   Sulfate          782 non-null    float64\n",
            " 6   Conductivity     1016 non-null   float64\n",
            " 7   Organic_carbon   1016 non-null   float64\n",
            " 8   Trihalomethanes  965 non-null    float64\n",
            " 9   Turbidity        1016 non-null   float64\n",
            "dtypes: float64(9), object(1)\n",
            "memory usage: 79.5+ KB\n"
          ]
        }
      ]
    },
    {
      "cell_type": "code",
      "metadata": {
        "colab": {
          "base_uri": "https://localhost:8080/"
        },
        "id": "XJUo5Xd9osyV",
        "outputId": "e684df71-20f3-41d6-fddc-78d7ed5ed9a5"
      },
      "source": [
        "train_data.info()"
      ],
      "execution_count": 9,
      "outputs": [
        {
          "output_type": "stream",
          "name": "stdout",
          "text": [
            "<class 'pandas.core.frame.DataFrame'>\n",
            "RangeIndex: 2260 entries, 0 to 2259\n",
            "Data columns (total 11 columns):\n",
            " #   Column           Non-Null Count  Dtype  \n",
            "---  ------           --------------  -----  \n",
            " 0   region_area_     2260 non-null   object \n",
            " 1   ph               1924 non-null   float64\n",
            " 2   Hardness         2260 non-null   float64\n",
            " 3   Solids           2260 non-null   float64\n",
            " 4   Chloramines      2260 non-null   float64\n",
            " 5   Sulfate          1713 non-null   float64\n",
            " 6   Conductivity     2260 non-null   float64\n",
            " 7   Organic_carbon   2260 non-null   float64\n",
            " 8   Trihalomethanes  2149 non-null   float64\n",
            " 9   Turbidity        2260 non-null   float64\n",
            " 10  Potability       2260 non-null   int64  \n",
            "dtypes: float64(9), int64(1), object(1)\n",
            "memory usage: 194.3+ KB\n"
          ]
        }
      ]
    },
    {
      "cell_type": "code",
      "metadata": {
        "colab": {
          "base_uri": "https://localhost:8080/"
        },
        "id": "dqq-Y0jkudPV",
        "outputId": "46a9116f-a11a-4322-b66f-d4c1d9cf0bcf"
      },
      "source": [
        "train_data.isnull().sum()"
      ],
      "execution_count": 10,
      "outputs": [
        {
          "output_type": "execute_result",
          "data": {
            "text/plain": [
              "region_area_         0\n",
              "ph                 336\n",
              "Hardness             0\n",
              "Solids               0\n",
              "Chloramines          0\n",
              "Sulfate            547\n",
              "Conductivity         0\n",
              "Organic_carbon       0\n",
              "Trihalomethanes    111\n",
              "Turbidity            0\n",
              "Potability           0\n",
              "dtype: int64"
            ]
          },
          "metadata": {},
          "execution_count": 10
        }
      ]
    },
    {
      "cell_type": "code",
      "metadata": {
        "id": "QOcvkNt9fkrO",
        "colab": {
          "base_uri": "https://localhost:8080/"
        },
        "outputId": "d8d1a4fd-ddf2-425d-af5e-434f6b99c872"
      },
      "source": [
        "print('Percent of missing records are %.2f%%' %((train_data['ph'].isnull().sum()/train_data.shape[0])*100))"
      ],
      "execution_count": 11,
      "outputs": [
        {
          "output_type": "stream",
          "name": "stdout",
          "text": [
            "Percent of missing records are 14.87%\n"
          ]
        }
      ]
    },
    {
      "cell_type": "code",
      "metadata": {
        "id": "Buu1KM3fm3mb",
        "colab": {
          "base_uri": "https://localhost:8080/"
        },
        "outputId": "8b26752f-47f3-4c18-c2da-b106eb0ebd91"
      },
      "source": [
        "test_miss_percent = test_data.isnull().sum() * 100 / len(test_data)\n",
        "missing_test = pd.DataFrame({'column_name': test_data.columns,\n",
        "                                 'percent_missing': test_miss_percent})\n",
        "print(missing_test)"
      ],
      "execution_count": 12,
      "outputs": [
        {
          "output_type": "stream",
          "name": "stdout",
          "text": [
            "                     column_name  percent_missing\n",
            "region_area_        region_area_         0.000000\n",
            "ph                            ph        15.255906\n",
            "Hardness                Hardness         0.000000\n",
            "Solids                    Solids         0.000000\n",
            "Chloramines          Chloramines         0.000000\n",
            "Sulfate                  Sulfate        23.031496\n",
            "Conductivity        Conductivity         0.000000\n",
            "Organic_carbon    Organic_carbon         0.000000\n",
            "Trihalomethanes  Trihalomethanes         5.019685\n",
            "Turbidity              Turbidity         0.000000\n"
          ]
        }
      ]
    },
    {
      "cell_type": "markdown",
      "metadata": {
        "id": "etV9yh2-UC7u"
      },
      "source": [
        "#### Visualizing our data could help us know the type of method to use for filling them"
      ]
    },
    {
      "cell_type": "code",
      "metadata": {
        "id": "h4Pzu-2Rm3iz",
        "colab": {
          "base_uri": "https://localhost:8080/",
          "height": 386
        },
        "outputId": "bc74d958-2a45-48e8-ab79-58b3cd87c1c2"
      },
      "source": [
        "sns.displot(train_data['ph'])"
      ],
      "execution_count": 13,
      "outputs": [
        {
          "output_type": "execute_result",
          "data": {
            "text/plain": [
              "<seaborn.axisgrid.FacetGrid at 0x7f64fee277d0>"
            ]
          },
          "metadata": {},
          "execution_count": 13
        },
        {
          "output_type": "display_data",
          "data": {
            "image/png": "[encoded data removed]",
            "text/plain": [
              "<Figure size 360x360 with 1 Axes>"
            ]
          },
          "metadata": {
            "needs_background": "light"
          }
        }
      ]
    },
    {
      "cell_type": "code",
      "metadata": {
        "id": "F7a5WhaLm3cD",
        "colab": {
          "base_uri": "https://localhost:8080/",
          "height": 386
        },
        "outputId": "e1f1c351-b2a9-4d7e-9848-5d85754f91b0"
      },
      "source": [
        "sns.displot(train_data['Sulfate'])"
      ],
      "execution_count": 14,
      "outputs": [
        {
          "output_type": "execute_result",
          "data": {
            "text/plain": [
              "<seaborn.axisgrid.FacetGrid at 0x7f64fee05250>"
            ]
          },
          "metadata": {},
          "execution_count": 14
        },
        {
          "output_type": "display_data",
          "data": {
            "image/png": "[encoded data removed]",
            "text/plain": [
              "<Figure size 360x360 with 1 Axes>"
            ]
          },
          "metadata": {
            "needs_background": "light"
          }
        }
      ]
    },
    {
      "cell_type": "code",
      "metadata": {
        "id": "_vB0WFcBm3M_",
        "colab": {
          "base_uri": "https://localhost:8080/",
          "height": 386
        },
        "outputId": "d5136d61-6c9d-407a-ccb2-f0e6d3ffb682"
      },
      "source": [
        "sns.displot(train_data['Trihalomethanes'])"
      ],
      "execution_count": 15,
      "outputs": [
        {
          "output_type": "execute_result",
          "data": {
            "text/plain": [
              "<seaborn.axisgrid.FacetGrid at 0x7f64f59f2150>"
            ]
          },
          "metadata": {},
          "execution_count": 15
        },
        {
          "output_type": "display_data",
          "data": {
            "image/png": "[encoded data removed]",
            "text/plain": [
              "<Figure size 360x360 with 1 Axes>"
            ]
          },
          "metadata": {
            "needs_background": "light"
          }
        }
      ]
    },
    {
      "cell_type": "code",
      "metadata": {
        "id": "n9BlcLWDWFNX"
      },
      "source": [
        "#Filling the missing values \n",
        "\n",
        "dataframe = [train_data, test_data]\n",
        "\n",
        "for df in dataframe:\n",
        "    \n",
        "    df['ph'].fillna(df['ph'].mean(), inplace=True)\n",
        "\n",
        "    #For Sulphate\n",
        "    df['Sulfate'].fillna(df['Sulfate'].mean(), inplace=True)\n",
        "\n",
        "    #For Trihalomethanes\n",
        "    df['Trihalomethanes'].fillna(df['Trihalomethanes'].mean(), inplace=True)"
      ],
      "execution_count": 16,
      "outputs": []
    },
    {
      "cell_type": "code",
      "metadata": {
        "colab": {
          "base_uri": "https://localhost:8080/"
        },
        "id": "uADJvaffWFJ_",
        "outputId": "eb5522f7-1b8d-44bd-ca9b-e3cc1383eaa9"
      },
      "source": [
        "train_data.isnull().sum()"
      ],
      "execution_count": 17,
      "outputs": [
        {
          "output_type": "execute_result",
          "data": {
            "text/plain": [
              "region_area_       0\n",
              "ph                 0\n",
              "Hardness           0\n",
              "Solids             0\n",
              "Chloramines        0\n",
              "Sulfate            0\n",
              "Conductivity       0\n",
              "Organic_carbon     0\n",
              "Trihalomethanes    0\n",
              "Turbidity          0\n",
              "Potability         0\n",
              "dtype: int64"
            ]
          },
          "metadata": {},
          "execution_count": 17
        }
      ]
    },
    {
      "cell_type": "code",
      "metadata": {
        "colab": {
          "base_uri": "https://localhost:8080/"
        },
        "id": "4rAExaCcWFHB",
        "outputId": "298e0f5d-39dd-4e56-8faa-829ca582dbe8"
      },
      "source": [
        "test_data.isnull().sum()"
      ],
      "execution_count": 18,
      "outputs": [
        {
          "output_type": "execute_result",
          "data": {
            "text/plain": [
              "region_area_       0\n",
              "ph                 0\n",
              "Hardness           0\n",
              "Solids             0\n",
              "Chloramines        0\n",
              "Sulfate            0\n",
              "Conductivity       0\n",
              "Organic_carbon     0\n",
              "Trihalomethanes    0\n",
              "Turbidity          0\n",
              "dtype: int64"
            ]
          },
          "metadata": {},
          "execution_count": 18
        }
      ]
    },
    {
      "cell_type": "code",
      "metadata": {
        "colab": {
          "base_uri": "https://localhost:8080/",
          "height": 411
        },
        "id": "5lW85jwoWFEa",
        "outputId": "e2d757a2-0b39-40bf-bda5-7b880baba69a"
      },
      "source": [
        "ax = train_data[['Potability']].value_counts().plot(kind='bar', figsize=(8, 6), title=\"Water Portability Count\")"
      ],
      "execution_count": 19,
      "outputs": [
        {
          "output_type": "display_data",
          "data": {
            "image/png": "[encoded data removed]",
            "text/plain": [
              "<Figure size 576x432 with 1 Axes>"
            ]
          },
          "metadata": {
            "needs_background": "light"
          }
        }
      ]
    },
    {
      "cell_type": "code",
      "metadata": {
        "colab": {
          "base_uri": "https://localhost:8080/",
          "height": 634
        },
        "id": "rs-7gncVWFCD",
        "outputId": "3c7cf55a-4a7e-45a7-8a9a-15bb54523f5f"
      },
      "source": [
        "plt.figure(figsize=(16,9))\n",
        "sns.heatmap(train_data.corr(), annot=True)\n",
        "plt.title(\"Correlation Between Features\", fontsize=23)\n",
        "plt.show()"
      ],
      "execution_count": 20,
      "outputs": [
        {
          "output_type": "display_data",
          "data": {
            "image/png": "[encoded data removed]",
            "text/plain": [
              "<Figure size 1152x648 with 2 Axes>"
            ]
          },
          "metadata": {
            "needs_background": "light"
          }
        }
      ]
    },
    {
      "cell_type": "code",
      "metadata": {
        "colab": {
          "base_uri": "https://localhost:8080/"
        },
        "id": "DBt5AlUXWE-z",
        "outputId": "79f89521-5abc-453d-c0f5-1996f7459d58"
      },
      "source": [
        "train_data[train_data.columns[0:]].corr()['Potability'][:].sort_values(ascending=False)"
      ],
      "execution_count": 21,
      "outputs": [
        {
          "output_type": "execute_result",
          "data": {
            "text/plain": [
              "Potability         1.000000\n",
              "Chloramines        0.034357\n",
              "Solids             0.027166\n",
              "Conductivity      -0.006642\n",
              "Trihalomethanes   -0.006789\n",
              "ph                -0.007579\n",
              "Turbidity         -0.008680\n",
              "Hardness          -0.015250\n",
              "Organic_carbon    -0.026848\n",
              "Sulfate           -0.029157\n",
              "Name: Potability, dtype: float64"
            ]
          },
          "metadata": {},
          "execution_count": 21
        }
      ]
    },
    {
      "cell_type": "markdown",
      "metadata": {
        "id": "cRkpHRay0CUC"
      },
      "source": [
        "## Feature Engineering"
      ]
    },
    {
      "cell_type": "code",
      "metadata": {
        "colab": {
          "base_uri": "https://localhost:8080/",
          "height": 386
        },
        "id": "0QE47fbUIqLw",
        "outputId": "7602c776-5ff4-4bbc-aea8-649c9942b773"
      },
      "source": [
        "sns.displot(train_data['Organic_carbon'])"
      ],
      "execution_count": 22,
      "outputs": [
        {
          "output_type": "execute_result",
          "data": {
            "text/plain": [
              "<seaborn.axisgrid.FacetGrid at 0x7f64f514a750>"
            ]
          },
          "metadata": {},
          "execution_count": 22
        },
        {
          "output_type": "display_data",
          "data": {
            "image/png": "[encoded data removed]",
            "text/plain": [
              "<Figure size 360x360 with 1 Axes>"
            ]
          },
          "metadata": {
            "needs_background": "light"
          }
        }
      ]
    },
    {
      "cell_type": "code",
      "metadata": {
        "id": "ggIeWbc-0BDI"
      },
      "source": [
        "dataframe = [train_data, test_data]\n",
        "\n",
        "for data in dataframe:\n",
        "  data['ph'] = np.where((data['ph'].values>=6.52) & (data['ph'].values<= 6.83), \"safe_ph\",\"unsafe_ph\")\n",
        "\n",
        "  data['Solids'] = np.where((data['Solids'].values>=500) & (data['Solids'].values<=1000), \"fair_tds\", \"high_tds\")\n",
        "\n",
        "  data['Chloramines'] = np.where(data['Chloramines'].values<= 4, \"safe_NCl\", \"unsafe_NCl\")\n",
        "\n",
        "  data['Conductivity'] = np.where(data['Conductivity'].values<= 400, \"good_insulator\", \"conductor\")\n",
        "\n",
        "  data['Trihalomethanes'] = np.where(data['Trihalomethanes'].values<= 80, \"safe_THM\", \"unsafe_THM\")\n",
        "\n",
        "  data['Turbidity'] = np.where(data['Turbidity'].values<= 5, \"good_turbidity\", \"high_turbidity\")\n",
        "\n",
        "\n",
        "dataframe = [train_data, test_data]\n",
        "\n",
        "#for Hardness\n",
        "for data in dataframe:\n",
        "  col         = 'Hardness'\n",
        "  conditions  = [data[col] < 60, (data[col] > 60) & (data[col] <= 120), (data[col] > 120) &  (data[col] <=180), data[col] > 180]\n",
        "  choices     = [ \"soft_water\", 'mod_hard', 'hard', 'very_hard' ]\n",
        "  data[\"Hardness_class\"] = np.select(conditions, choices, default=np.nan)\n",
        "\n",
        "#for Sulpahte\n",
        "for data in dataframe:\n",
        "  col         = 'Sulfate'\n",
        "  conditions  = [(data[col] < 3) & (data[col] > 1000), (data[col] == 3) & (data[col] <= 30), (data[col] > 30) &  (data[col] <=1000)]\n",
        "  choices     = [ \"otherwater_s\", 'freshwater_s', 'geowater_s' ]\n",
        "  data[\"Sulphate_level\"] = np.select(conditions, choices, default=np.nan)\n",
        "\n",
        "#for Organic Carbon\n",
        "for data in dataframe:\n",
        "  col         = 'Organic_carbon'\n",
        "  conditions  = [data[col] <2, (data[col] > 2) & (data[col] < 4), data[col] > 4]\n",
        "  choices     = [ \"treated_water\", 'water_treatment', 'others' ]\n",
        "  data[\"TDC\"] = np.select(conditions, choices, default=np.nan)\n",
        "\n"
      ],
      "execution_count": 23,
      "outputs": []
    },
    {
      "cell_type": "code",
      "metadata": {
        "id": "uVn9V3lj1bqK"
      },
      "source": [
        "region_area_ = test_data['region_area_']\n",
        "\n",
        "train_data = train_data.drop([\"region_area_\", \"Hardness\", \"Sulfate\", \"Organic_carbon\"], axis=1)\n",
        "test_data = test_data.drop([\"region_area_\", \"Hardness\", \"Sulfate\", \"Organic_carbon\"], axis=1)"
      ],
      "execution_count": 24,
      "outputs": []
    },
    {
      "cell_type": "code",
      "metadata": {
        "id": "-z5uIZ85Fbpf",
        "colab": {
          "base_uri": "https://localhost:8080/",
          "height": 363
        },
        "outputId": "dffa3983-ea2b-4533-f1d1-90e7c91f3426"
      },
      "source": [
        "train_data.head(10)"
      ],
      "execution_count": 25,
      "outputs": [
        {
          "output_type": "execute_result",
          "data": {
            "text/html": [
              "<div>\n",
              "<style scoped>\n",
              "    .dataframe tbody tr th:only-of-type {\n",
              "        vertical-align: middle;\n",
              "    }\n",
              "\n",
              "    .dataframe tbody tr th {\n",
              "        vertical-align: top;\n",
              "    }\n",
              "\n",
              "    .dataframe thead th {\n",
              "        text-align: right;\n",
              "    }\n",
              "</style>\n",
              "<table border=\"1\" class=\"dataframe\">\n",
              "  <thead>\n",
              "    <tr style=\"text-align: right;\">\n",
              "      <th></th>\n",
              "      <th>ph</th>\n",
              "      <th>Solids</th>\n",
              "      <th>Chloramines</th>\n",
              "      <th>Conductivity</th>\n",
              "      <th>Trihalomethanes</th>\n",
              "      <th>Turbidity</th>\n",
              "      <th>Potability</th>\n",
              "      <th>Hardness_class</th>\n",
              "      <th>Sulphate_level</th>\n",
              "      <th>TDC</th>\n",
              "    </tr>\n",
              "  </thead>\n",
              "  <tbody>\n",
              "    <tr>\n",
              "      <th>0</th>\n",
              "      <td>unsafe_ph</td>\n",
              "      <td>high_tds</td>\n",
              "      <td>unsafe_NCl</td>\n",
              "      <td>conductor</td>\n",
              "      <td>safe_THM</td>\n",
              "      <td>good_turbidity</td>\n",
              "      <td>0</td>\n",
              "      <td>very_hard</td>\n",
              "      <td>geowater_s</td>\n",
              "      <td>others</td>\n",
              "    </tr>\n",
              "    <tr>\n",
              "      <th>1</th>\n",
              "      <td>unsafe_ph</td>\n",
              "      <td>high_tds</td>\n",
              "      <td>unsafe_NCl</td>\n",
              "      <td>good_insulator</td>\n",
              "      <td>safe_THM</td>\n",
              "      <td>good_turbidity</td>\n",
              "      <td>0</td>\n",
              "      <td>very_hard</td>\n",
              "      <td>geowater_s</td>\n",
              "      <td>others</td>\n",
              "    </tr>\n",
              "    <tr>\n",
              "      <th>2</th>\n",
              "      <td>safe_ph</td>\n",
              "      <td>high_tds</td>\n",
              "      <td>unsafe_NCl</td>\n",
              "      <td>good_insulator</td>\n",
              "      <td>safe_THM</td>\n",
              "      <td>good_turbidity</td>\n",
              "      <td>0</td>\n",
              "      <td>very_hard</td>\n",
              "      <td>geowater_s</td>\n",
              "      <td>others</td>\n",
              "    </tr>\n",
              "    <tr>\n",
              "      <th>3</th>\n",
              "      <td>unsafe_ph</td>\n",
              "      <td>high_tds</td>\n",
              "      <td>unsafe_NCl</td>\n",
              "      <td>conductor</td>\n",
              "      <td>unsafe_THM</td>\n",
              "      <td>good_turbidity</td>\n",
              "      <td>0</td>\n",
              "      <td>very_hard</td>\n",
              "      <td>geowater_s</td>\n",
              "      <td>others</td>\n",
              "    </tr>\n",
              "    <tr>\n",
              "      <th>4</th>\n",
              "      <td>unsafe_ph</td>\n",
              "      <td>high_tds</td>\n",
              "      <td>unsafe_NCl</td>\n",
              "      <td>conductor</td>\n",
              "      <td>safe_THM</td>\n",
              "      <td>good_turbidity</td>\n",
              "      <td>0</td>\n",
              "      <td>very_hard</td>\n",
              "      <td>geowater_s</td>\n",
              "      <td>others</td>\n",
              "    </tr>\n",
              "    <tr>\n",
              "      <th>5</th>\n",
              "      <td>unsafe_ph</td>\n",
              "      <td>high_tds</td>\n",
              "      <td>unsafe_NCl</td>\n",
              "      <td>conductor</td>\n",
              "      <td>safe_THM</td>\n",
              "      <td>good_turbidity</td>\n",
              "      <td>0</td>\n",
              "      <td>very_hard</td>\n",
              "      <td>geowater_s</td>\n",
              "      <td>others</td>\n",
              "    </tr>\n",
              "    <tr>\n",
              "      <th>6</th>\n",
              "      <td>unsafe_ph</td>\n",
              "      <td>high_tds</td>\n",
              "      <td>unsafe_NCl</td>\n",
              "      <td>good_insulator</td>\n",
              "      <td>safe_THM</td>\n",
              "      <td>good_turbidity</td>\n",
              "      <td>0</td>\n",
              "      <td>very_hard</td>\n",
              "      <td>geowater_s</td>\n",
              "      <td>others</td>\n",
              "    </tr>\n",
              "    <tr>\n",
              "      <th>7</th>\n",
              "      <td>unsafe_ph</td>\n",
              "      <td>high_tds</td>\n",
              "      <td>unsafe_NCl</td>\n",
              "      <td>conductor</td>\n",
              "      <td>safe_THM</td>\n",
              "      <td>good_turbidity</td>\n",
              "      <td>0</td>\n",
              "      <td>very_hard</td>\n",
              "      <td>geowater_s</td>\n",
              "      <td>others</td>\n",
              "    </tr>\n",
              "    <tr>\n",
              "      <th>8</th>\n",
              "      <td>unsafe_ph</td>\n",
              "      <td>high_tds</td>\n",
              "      <td>unsafe_NCl</td>\n",
              "      <td>conductor</td>\n",
              "      <td>unsafe_THM</td>\n",
              "      <td>good_turbidity</td>\n",
              "      <td>0</td>\n",
              "      <td>very_hard</td>\n",
              "      <td>geowater_s</td>\n",
              "      <td>others</td>\n",
              "    </tr>\n",
              "    <tr>\n",
              "      <th>9</th>\n",
              "      <td>unsafe_ph</td>\n",
              "      <td>high_tds</td>\n",
              "      <td>unsafe_NCl</td>\n",
              "      <td>conductor</td>\n",
              "      <td>safe_THM</td>\n",
              "      <td>good_turbidity</td>\n",
              "      <td>0</td>\n",
              "      <td>very_hard</td>\n",
              "      <td>geowater_s</td>\n",
              "      <td>others</td>\n",
              "    </tr>\n",
              "  </tbody>\n",
              "</table>\n",
              "</div>"
            ],
            "text/plain": [
              "          ph    Solids Chloramines  ... Hardness_class Sulphate_level     TDC\n",
              "0  unsafe_ph  high_tds  unsafe_NCl  ...      very_hard     geowater_s  others\n",
              "1  unsafe_ph  high_tds  unsafe_NCl  ...      very_hard     geowater_s  others\n",
              "2    safe_ph  high_tds  unsafe_NCl  ...      very_hard     geowater_s  others\n",
              "3  unsafe_ph  high_tds  unsafe_NCl  ...      very_hard     geowater_s  others\n",
              "4  unsafe_ph  high_tds  unsafe_NCl  ...      very_hard     geowater_s  others\n",
              "5  unsafe_ph  high_tds  unsafe_NCl  ...      very_hard     geowater_s  others\n",
              "6  unsafe_ph  high_tds  unsafe_NCl  ...      very_hard     geowater_s  others\n",
              "7  unsafe_ph  high_tds  unsafe_NCl  ...      very_hard     geowater_s  others\n",
              "8  unsafe_ph  high_tds  unsafe_NCl  ...      very_hard     geowater_s  others\n",
              "9  unsafe_ph  high_tds  unsafe_NCl  ...      very_hard     geowater_s  others\n",
              "\n",
              "[10 rows x 10 columns]"
            ]
          },
          "metadata": {},
          "execution_count": 25
        }
      ]
    },
    {
      "cell_type": "markdown",
      "metadata": {
        "id": "avtys0uMqRAC"
      },
      "source": [
        "## Mapping/Encoding"
      ]
    },
    {
      "cell_type": "code",
      "metadata": {
        "id": "WfW_48Td3ec_"
      },
      "source": [
        "train_data['Potability']=train_data['Potability'].astype('category')\n",
        "train_data['Potability']=train_data['Potability'].astype('int')"
      ],
      "execution_count": 26,
      "outputs": []
    },
    {
      "cell_type": "code",
      "metadata": {
        "id": "PNH1ahP2DtB1"
      },
      "source": [
        "# Extract categorical train_data\n",
        "cat_cols = []\n",
        "\n",
        "for col in train_data.columns:\n",
        "    if train_data[col].dtype == 'O':\n",
        "        cat_cols.append(col)\n",
        "\n",
        "for col in cat_cols:\n",
        "\n",
        "    train_data[col] = pd.factorize(train_data[col])[0]        "
      ],
      "execution_count": 27,
      "outputs": []
    },
    {
      "cell_type": "code",
      "metadata": {
        "id": "GVxJ9NoAHOGq"
      },
      "source": [
        "# Extract categorical test_data\n",
        "catt_cols = []\n",
        "\n",
        "for col in test_data.columns:\n",
        "    if test_data[col].dtype == 'O':\n",
        "        catt_cols.append(col)\n",
        "\n",
        "for col in catt_cols:\n",
        "\n",
        "    test_data[col] = pd.factorize(test_data[col])[0] "
      ],
      "execution_count": 28,
      "outputs": []
    },
    {
      "cell_type": "code",
      "metadata": {
        "id": "X9XE0pT-0HIr",
        "colab": {
          "base_uri": "https://localhost:8080/",
          "height": 206
        },
        "outputId": "76d721d7-3c64-4c45-e924-beae81b7b8e5"
      },
      "source": [
        "train_data.head()"
      ],
      "execution_count": 29,
      "outputs": [
        {
          "output_type": "execute_result",
          "data": {
            "text/html": [
              "<div>\n",
              "<style scoped>\n",
              "    .dataframe tbody tr th:only-of-type {\n",
              "        vertical-align: middle;\n",
              "    }\n",
              "\n",
              "    .dataframe tbody tr th {\n",
              "        vertical-align: top;\n",
              "    }\n",
              "\n",
              "    .dataframe thead th {\n",
              "        text-align: right;\n",
              "    }\n",
              "</style>\n",
              "<table border=\"1\" class=\"dataframe\">\n",
              "  <thead>\n",
              "    <tr style=\"text-align: right;\">\n",
              "      <th></th>\n",
              "      <th>ph</th>\n",
              "      <th>Solids</th>\n",
              "      <th>Chloramines</th>\n",
              "      <th>Conductivity</th>\n",
              "      <th>Trihalomethanes</th>\n",
              "      <th>Turbidity</th>\n",
              "      <th>Potability</th>\n",
              "      <th>Hardness_class</th>\n",
              "      <th>Sulphate_level</th>\n",
              "      <th>TDC</th>\n",
              "    </tr>\n",
              "  </thead>\n",
              "  <tbody>\n",
              "    <tr>\n",
              "      <th>0</th>\n",
              "      <td>0</td>\n",
              "      <td>0</td>\n",
              "      <td>0</td>\n",
              "      <td>0</td>\n",
              "      <td>0</td>\n",
              "      <td>0</td>\n",
              "      <td>0</td>\n",
              "      <td>0</td>\n",
              "      <td>0</td>\n",
              "      <td>0</td>\n",
              "    </tr>\n",
              "    <tr>\n",
              "      <th>1</th>\n",
              "      <td>0</td>\n",
              "      <td>0</td>\n",
              "      <td>0</td>\n",
              "      <td>1</td>\n",
              "      <td>0</td>\n",
              "      <td>0</td>\n",
              "      <td>0</td>\n",
              "      <td>0</td>\n",
              "      <td>0</td>\n",
              "      <td>0</td>\n",
              "    </tr>\n",
              "    <tr>\n",
              "      <th>2</th>\n",
              "      <td>1</td>\n",
              "      <td>0</td>\n",
              "      <td>0</td>\n",
              "      <td>1</td>\n",
              "      <td>0</td>\n",
              "      <td>0</td>\n",
              "      <td>0</td>\n",
              "      <td>0</td>\n",
              "      <td>0</td>\n",
              "      <td>0</td>\n",
              "    </tr>\n",
              "    <tr>\n",
              "      <th>3</th>\n",
              "      <td>0</td>\n",
              "      <td>0</td>\n",
              "      <td>0</td>\n",
              "      <td>0</td>\n",
              "      <td>1</td>\n",
              "      <td>0</td>\n",
              "      <td>0</td>\n",
              "      <td>0</td>\n",
              "      <td>0</td>\n",
              "      <td>0</td>\n",
              "    </tr>\n",
              "    <tr>\n",
              "      <th>4</th>\n",
              "      <td>0</td>\n",
              "      <td>0</td>\n",
              "      <td>0</td>\n",
              "      <td>0</td>\n",
              "      <td>0</td>\n",
              "      <td>0</td>\n",
              "      <td>0</td>\n",
              "      <td>0</td>\n",
              "      <td>0</td>\n",
              "      <td>0</td>\n",
              "    </tr>\n",
              "  </tbody>\n",
              "</table>\n",
              "</div>"
            ],
            "text/plain": [
              "   ph  Solids  Chloramines  ...  Hardness_class  Sulphate_level  TDC\n",
              "0   0       0            0  ...               0               0    0\n",
              "1   0       0            0  ...               0               0    0\n",
              "2   1       0            0  ...               0               0    0\n",
              "3   0       0            0  ...               0               0    0\n",
              "4   0       0            0  ...               0               0    0\n",
              "\n",
              "[5 rows x 10 columns]"
            ]
          },
          "metadata": {},
          "execution_count": 29
        }
      ]
    },
    {
      "cell_type": "code",
      "metadata": {
        "colab": {
          "base_uri": "https://localhost:8080/",
          "height": 206
        },
        "id": "OxPFYTabJRqX",
        "outputId": "8d73d48a-3215-4de5-973f-4d4597fd37b0"
      },
      "source": [
        "test_data.head()"
      ],
      "execution_count": 30,
      "outputs": [
        {
          "output_type": "execute_result",
          "data": {
            "text/html": [
              "<div>\n",
              "<style scoped>\n",
              "    .dataframe tbody tr th:only-of-type {\n",
              "        vertical-align: middle;\n",
              "    }\n",
              "\n",
              "    .dataframe tbody tr th {\n",
              "        vertical-align: top;\n",
              "    }\n",
              "\n",
              "    .dataframe thead th {\n",
              "        text-align: right;\n",
              "    }\n",
              "</style>\n",
              "<table border=\"1\" class=\"dataframe\">\n",
              "  <thead>\n",
              "    <tr style=\"text-align: right;\">\n",
              "      <th></th>\n",
              "      <th>ph</th>\n",
              "      <th>Solids</th>\n",
              "      <th>Chloramines</th>\n",
              "      <th>Conductivity</th>\n",
              "      <th>Trihalomethanes</th>\n",
              "      <th>Turbidity</th>\n",
              "      <th>Hardness_class</th>\n",
              "      <th>Sulphate_level</th>\n",
              "      <th>TDC</th>\n",
              "    </tr>\n",
              "  </thead>\n",
              "  <tbody>\n",
              "    <tr>\n",
              "      <th>0</th>\n",
              "      <td>0</td>\n",
              "      <td>0</td>\n",
              "      <td>0</td>\n",
              "      <td>0</td>\n",
              "      <td>0</td>\n",
              "      <td>0</td>\n",
              "      <td>0</td>\n",
              "      <td>0</td>\n",
              "      <td>0</td>\n",
              "    </tr>\n",
              "    <tr>\n",
              "      <th>1</th>\n",
              "      <td>0</td>\n",
              "      <td>0</td>\n",
              "      <td>0</td>\n",
              "      <td>0</td>\n",
              "      <td>1</td>\n",
              "      <td>0</td>\n",
              "      <td>0</td>\n",
              "      <td>0</td>\n",
              "      <td>0</td>\n",
              "    </tr>\n",
              "    <tr>\n",
              "      <th>2</th>\n",
              "      <td>0</td>\n",
              "      <td>0</td>\n",
              "      <td>0</td>\n",
              "      <td>1</td>\n",
              "      <td>1</td>\n",
              "      <td>1</td>\n",
              "      <td>0</td>\n",
              "      <td>0</td>\n",
              "      <td>0</td>\n",
              "    </tr>\n",
              "    <tr>\n",
              "      <th>3</th>\n",
              "      <td>0</td>\n",
              "      <td>0</td>\n",
              "      <td>0</td>\n",
              "      <td>1</td>\n",
              "      <td>1</td>\n",
              "      <td>0</td>\n",
              "      <td>0</td>\n",
              "      <td>0</td>\n",
              "      <td>0</td>\n",
              "    </tr>\n",
              "    <tr>\n",
              "      <th>4</th>\n",
              "      <td>0</td>\n",
              "      <td>0</td>\n",
              "      <td>0</td>\n",
              "      <td>1</td>\n",
              "      <td>1</td>\n",
              "      <td>0</td>\n",
              "      <td>0</td>\n",
              "      <td>0</td>\n",
              "      <td>0</td>\n",
              "    </tr>\n",
              "  </tbody>\n",
              "</table>\n",
              "</div>"
            ],
            "text/plain": [
              "   ph  Solids  Chloramines  ...  Hardness_class  Sulphate_level  TDC\n",
              "0   0       0            0  ...               0               0    0\n",
              "1   0       0            0  ...               0               0    0\n",
              "2   0       0            0  ...               0               0    0\n",
              "3   0       0            0  ...               0               0    0\n",
              "4   0       0            0  ...               0               0    0\n",
              "\n",
              "[5 rows x 9 columns]"
            ]
          },
          "metadata": {},
          "execution_count": 30
        }
      ]
    },
    {
      "cell_type": "code",
      "metadata": {
        "colab": {
          "base_uri": "https://localhost:8080/"
        },
        "id": "gWvWJrvNJXlM",
        "outputId": "90d839a5-9a90-4884-ed6f-454e206b7a2b"
      },
      "source": [
        "train_data.shape, test_data.shape"
      ],
      "execution_count": 31,
      "outputs": [
        {
          "output_type": "execute_result",
          "data": {
            "text/plain": [
              "((2260, 10), (1016, 9))"
            ]
          },
          "metadata": {},
          "execution_count": 31
        }
      ]
    },
    {
      "cell_type": "markdown",
      "metadata": {
        "id": "JjSliY6hrA1L"
      },
      "source": [
        "## Modelling"
      ]
    },
    {
      "cell_type": "markdown",
      "metadata": {
        "id": "HlFFHY2EjcXc"
      },
      "source": [
        "## Model 1"
      ]
    },
    {
      "cell_type": "code",
      "metadata": {
        "id": "ykggeA7tWEsG"
      },
      "source": [
        "#Split my data\n",
        "\n",
        "y = train_data['Potability']\n",
        "X = train_data.drop(['Potability'],axis=1)\n",
        "\n",
        "test_df = test_data"
      ],
      "execution_count": 32,
      "outputs": []
    },
    {
      "cell_type": "code",
      "metadata": {
        "id": "IVaZ06RPbeUl",
        "colab": {
          "base_uri": "https://localhost:8080/"
        },
        "outputId": "63b233fd-285d-4d52-8cf0-727bb2c14bd8"
      },
      "source": [
        "!pip install catboost --quiet"
      ],
      "execution_count": 33,
      "outputs": [
        {
          "output_type": "stream",
          "name": "stdout",
          "text": [
            "\u001b[K     |████████████████████████████████| 67.4 MB 28 kB/s \n",
            "\u001b[?25h"
          ]
        }
      ]
    },
    {
      "cell_type": "code",
      "metadata": {
        "id": "jMV1w0yAiGMu"
      },
      "source": [
        "!pip install lightgbm --quiet"
      ],
      "execution_count": 34,
      "outputs": []
    },
    {
      "cell_type": "code",
      "metadata": {
        "id": "_6Y_xsyYBssD",
        "colab": {
          "base_uri": "https://localhost:8080/"
        },
        "outputId": "78c86b87-2391-4c91-9f01-b73f8af4f0d8"
      },
      "source": [
        "import lightgbm as lgb \n",
        "from lightgbm import LGBMClassifier   \n",
        "model = lgb.LGBMClassifier(random_state=42,n_estimators=1000,silent=False, \n",
        "                       scale_pos_weight= 5,colsample_bylevel=0.8,subsample=0.8)  \n",
        "model.fit(X,y)"
      ],
      "execution_count": 35,
      "outputs": [
        {
          "output_type": "execute_result",
          "data": {
            "text/plain": [
              "LGBMClassifier(boosting_type='gbdt', class_weight=None, colsample_bylevel=0.8,\n",
              "               colsample_bytree=1.0, importance_type='split', learning_rate=0.1,\n",
              "               max_depth=-1, min_child_samples=20, min_child_weight=0.001,\n",
              "               min_split_gain=0.0, n_estimators=1000, n_jobs=-1, num_leaves=31,\n",
              "               objective=None, random_state=42, reg_alpha=0.0, reg_lambda=0.0,\n",
              "               scale_pos_weight=5, silent=False, subsample=0.8,\n",
              "               subsample_for_bin=200000, subsample_freq=0)"
            ]
          },
          "metadata": {},
          "execution_count": 35
        }
      ]
    },
    {
      "cell_type": "code",
      "metadata": {
        "id": "xuJsHfBsBshv",
        "colab": {
          "base_uri": "https://localhost:8080/",
          "height": 332
        },
        "outputId": "c549f5f4-e698-4ae2-865d-a42259fcb203"
      },
      "source": [
        "fea_imp = pd.DataFrame({'imp': model.feature_importances_, 'col': X.columns})\n",
        "fea_imp.sort_values(by='imp',ascending=False,inplace=True)\n",
        "fea_imp.head(30)"
      ],
      "execution_count": 36,
      "outputs": [
        {
          "output_type": "execute_result",
          "data": {
            "text/html": [
              "<div>\n",
              "<style scoped>\n",
              "    .dataframe tbody tr th:only-of-type {\n",
              "        vertical-align: middle;\n",
              "    }\n",
              "\n",
              "    .dataframe tbody tr th {\n",
              "        vertical-align: top;\n",
              "    }\n",
              "\n",
              "    .dataframe thead th {\n",
              "        text-align: right;\n",
              "    }\n",
              "</style>\n",
              "<table border=\"1\" class=\"dataframe\">\n",
              "  <thead>\n",
              "    <tr style=\"text-align: right;\">\n",
              "      <th></th>\n",
              "      <th>imp</th>\n",
              "      <th>col</th>\n",
              "    </tr>\n",
              "  </thead>\n",
              "  <tbody>\n",
              "    <tr>\n",
              "      <th>3</th>\n",
              "      <td>4731</td>\n",
              "      <td>Conductivity</td>\n",
              "    </tr>\n",
              "    <tr>\n",
              "      <th>4</th>\n",
              "      <td>2635</td>\n",
              "      <td>Trihalomethanes</td>\n",
              "    </tr>\n",
              "    <tr>\n",
              "      <th>5</th>\n",
              "      <td>1556</td>\n",
              "      <td>Turbidity</td>\n",
              "    </tr>\n",
              "    <tr>\n",
              "      <th>0</th>\n",
              "      <td>1197</td>\n",
              "      <td>ph</td>\n",
              "    </tr>\n",
              "    <tr>\n",
              "      <th>2</th>\n",
              "      <td>1072</td>\n",
              "      <td>Chloramines</td>\n",
              "    </tr>\n",
              "    <tr>\n",
              "      <th>6</th>\n",
              "      <td>1007</td>\n",
              "      <td>Hardness_class</td>\n",
              "    </tr>\n",
              "    <tr>\n",
              "      <th>1</th>\n",
              "      <td>0</td>\n",
              "      <td>Solids</td>\n",
              "    </tr>\n",
              "    <tr>\n",
              "      <th>7</th>\n",
              "      <td>0</td>\n",
              "      <td>Sulphate_level</td>\n",
              "    </tr>\n",
              "    <tr>\n",
              "      <th>8</th>\n",
              "      <td>0</td>\n",
              "      <td>TDC</td>\n",
              "    </tr>\n",
              "  </tbody>\n",
              "</table>\n",
              "</div>"
            ],
            "text/plain": [
              "    imp              col\n",
              "3  4731     Conductivity\n",
              "4  2635  Trihalomethanes\n",
              "5  1556        Turbidity\n",
              "0  1197               ph\n",
              "2  1072      Chloramines\n",
              "6  1007   Hardness_class\n",
              "1     0           Solids\n",
              "7     0   Sulphate_level\n",
              "8     0              TDC"
            ]
          },
          "metadata": {},
          "execution_count": 36
        }
      ]
    },
    {
      "cell_type": "code",
      "metadata": {
        "id": "WuZnU1w4Bsdd"
      },
      "source": [
        "index_to_use_later = ss['region_area_'].values"
      ],
      "execution_count": 37,
      "outputs": []
    },
    {
      "cell_type": "code",
      "metadata": {
        "id": "A_PnxPBqBsXW"
      },
      "source": [
        "cols=list(X.columns)"
      ],
      "execution_count": 38,
      "outputs": []
    },
    {
      "cell_type": "code",
      "metadata": {
        "id": "no3YcKfiimRx"
      },
      "source": [
        "output= model.predict_proba(test_df[cols])"
      ],
      "execution_count": 39,
      "outputs": []
    },
    {
      "cell_type": "code",
      "metadata": {
        "id": "jJ6qIDx5ipcz"
      },
      "source": [
        "submission_df = pd.DataFrame(columns=['region_area_','Potability'])    \n",
        "submission_df['region_area_'] = index_to_use_later\n",
        "submission_df['Potability'] = output[:,1]"
      ],
      "execution_count": 40,
      "outputs": []
    },
    {
      "cell_type": "code",
      "metadata": {
        "id": "JdCSJClHBsVd",
        "colab": {
          "base_uri": "https://localhost:8080/",
          "height": 206
        },
        "outputId": "58922026-f4a0-48a9-96ed-dee8f05d9923"
      },
      "source": [
        "submission_df['Potability']=np.where(submission_df['Potability'] > 0.3,1,0)\n",
        "\n",
        "submission_df.to_csv('water_com.csv',index=False)            # xxxxx on LB  \n",
        "submission_df.head() "
      ],
      "execution_count": 41,
      "outputs": [
        {
          "output_type": "execute_result",
          "data": {
            "text/html": [
              "<div>\n",
              "<style scoped>\n",
              "    .dataframe tbody tr th:only-of-type {\n",
              "        vertical-align: middle;\n",
              "    }\n",
              "\n",
              "    .dataframe tbody tr th {\n",
              "        vertical-align: top;\n",
              "    }\n",
              "\n",
              "    .dataframe thead th {\n",
              "        text-align: right;\n",
              "    }\n",
              "</style>\n",
              "<table border=\"1\" class=\"dataframe\">\n",
              "  <thead>\n",
              "    <tr style=\"text-align: right;\">\n",
              "      <th></th>\n",
              "      <th>region_area_</th>\n",
              "      <th>Potability</th>\n",
              "    </tr>\n",
              "  </thead>\n",
              "  <tbody>\n",
              "    <tr>\n",
              "      <th>0</th>\n",
              "      <td>region_area_0</td>\n",
              "      <td>1</td>\n",
              "    </tr>\n",
              "    <tr>\n",
              "      <th>1</th>\n",
              "      <td>region_area_10</td>\n",
              "      <td>1</td>\n",
              "    </tr>\n",
              "    <tr>\n",
              "      <th>2</th>\n",
              "      <td>region_area_1006</td>\n",
              "      <td>1</td>\n",
              "    </tr>\n",
              "    <tr>\n",
              "      <th>3</th>\n",
              "      <td>region_area_1010</td>\n",
              "      <td>1</td>\n",
              "    </tr>\n",
              "    <tr>\n",
              "      <th>4</th>\n",
              "      <td>region_area_1011</td>\n",
              "      <td>1</td>\n",
              "    </tr>\n",
              "  </tbody>\n",
              "</table>\n",
              "</div>"
            ],
            "text/plain": [
              "       region_area_  Potability\n",
              "0     region_area_0           1\n",
              "1    region_area_10           1\n",
              "2  region_area_1006           1\n",
              "3  region_area_1010           1\n",
              "4  region_area_1011           1"
            ]
          },
          "metadata": {},
          "execution_count": 41
        }
      ]
    },
    {
      "cell_type": "code",
      "metadata": {
        "id": "L-R8ykozpSKB",
        "colab": {
          "base_uri": "https://localhost:8080/"
        },
        "outputId": "3562bb94-5a5e-4e46-a1b7-7c8fe5950f5c"
      },
      "source": [
        "submission_df['Potability'].value_counts()"
      ],
      "execution_count": 42,
      "outputs": [
        {
          "output_type": "execute_result",
          "data": {
            "text/plain": [
              "1    1014\n",
              "0       2\n",
              "Name: Potability, dtype: int64"
            ]
          },
          "metadata": {},
          "execution_count": 42
        }
      ]
    }
  ]
}